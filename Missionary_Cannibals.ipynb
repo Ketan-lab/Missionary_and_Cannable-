{
  "nbformat": 4,
  "nbformat_minor": 0,
  "metadata": {
    "kernelspec": {
      "display_name": "Python 3",
      "language": "python",
      "name": "python3"
    },
    "language_info": {
      "codemirror_mode": {
        "name": "ipython",
        "version": 3
      },
      "file_extension": ".py",
      "mimetype": "text/x-python",
      "name": "python",
      "nbconvert_exporter": "python",
      "pygments_lexer": "ipython3",
      "version": "3.8.3"
    },
    "toc": {
      "base_numbering": 1,
      "nav_menu": {},
      "number_sections": true,
      "sideBar": true,
      "skip_h1_title": false,
      "title_cell": "Table of Contents",
      "title_sidebar": "Contents",
      "toc_cell": false,
      "toc_position": {},
      "toc_section_display": true,
      "toc_window_display": false
    },
    "colab": {
      "provenance": [],
      "collapsed_sections": [
        "-hIyuzsJQog3"
      ],
      "toc_visible": true,
      "include_colab_link": true
    }
  },
  "cells": [
    {
      "cell_type": "markdown",
      "metadata": {
        "id": "view-in-github",
        "colab_type": "text"
      },
      "source": [
        "<a href=\"https://colab.research.google.com/github/Ketan-lab/Missionary_and_Cannable-/blob/main/Missionary_Cannibals.ipynb\" target=\"_parent\"><img src=\"https://colab.research.google.com/assets/colab-badge.svg\" alt=\"Open In Colab\"/></a>"
      ]
    },
    {
      "cell_type": "markdown",
      "metadata": {
        "id": "y5dddMZVQogb"
      },
      "source": [
        "# <center>3 Missionaries 3 Cannibals</center>\n",
        "\n",
        "Create the famous 3 missionaries 3 cannibals crossing the river game.\n",
        "\n",
        "[Play Game!](https://www.novelgames.com/en/missionaries/)\n",
        "\n",
        "## Notebook Content :\n",
        "\n",
        "- **Lesson 1 :**\n",
        "  - Setting up the initial environment of the game.\n",
        "\n",
        "- **Lesson 2 :**\n",
        "  - Adding the required valid and invalid conditions alongwith their operations.\n",
        "\n",
        "- **Lesson 3 :**\n",
        "  - Combining all segments of the code to build the game.\n",
        "\n",
        "- **Lesson 4 :**\n",
        "  - Adding emoticons to complete the game with better interface.\n"
      ]
    },
    {
      "cell_type": "markdown",
      "metadata": {
        "id": "E6meN3PiQogl"
      },
      "source": [
        "## Rules :\n",
        "- Only 1 or 2 people are permitted on the boat to travel.\n",
        "- We cannot select anymore missionaries or cannibals on the boat than the available number of missionaries or cannibals on either side.\n",
        "- You **lose** if the number of cannibals exceeds the number of missionaries on either side.\n",
        "- You **win** if you successfully transfer all the missionaries and cannibals from right side to left side."
      ]
    },
    {
      "cell_type": "markdown",
      "metadata": {
        "id": "1fGHJcbTQogm"
      },
      "source": [
        "## <center>**Lesson 1**</center>\n",
        "\n",
        "#### <center>**Setting up the initial environment of the game**</center>"
      ]
    },
    {
      "cell_type": "markdown",
      "metadata": {
        "id": "2qAeNA_ZQogn"
      },
      "source": [
        "In the initial conditions of the game, all the missionaries and cannibals are on the right side alongwith the boat and the left side is completely empty. We will mimic this condition by defining variables for them.\n",
        "\n",
        "### **Define initial variables :**\n",
        "\n",
        "- Define variable `boat_side` as 'Right' initially. This depicts the boat being placed at right side.\n",
        "- Create numeric variables for number of missionaries and cannibals\n",
        "   on the right and left side.\n",
        "   So there are 3 missionaries and cannibals on right side and 0 on the left side.\n",
        "- **List of Variables :**\n",
        "`boat_side, missionaries_on_right, cannibals_on_right, missionaries_on_left, cannibals_on_left`\n"
      ]
    },
    {
      "cell_type": "code",
      "metadata": {
        "id": "AmjfaRdgQogo",
        "colab": {
          "base_uri": "https://localhost:8080/"
        },
        "outputId": "58f80ce2-0454-4372-96e5-e86870a48cad"
      },
      "source": [
        "boat_side = \"Right\"\n",
        "missionaries_on_right = 3\n",
        "cannibals_on_right = 3\n",
        "missionaries_on_left = 0\n",
        "cannibals_on_left = 0\n",
        "print(\"M =\",missionaries_on_left, \"C =\",cannibals_on_left, end=\" \")\n",
        "print(\"|-----B|\", end=\" \")\n",
        "print(\"M =\",missionaries_on_right, \"C\",cannibals_on_right, end=\" \")"
      ],
      "execution_count": null,
      "outputs": [
        {
          "output_type": "stream",
          "name": "stdout",
          "text": [
            "M = 0 C = 0 |-----B| M = 3 C 3 "
          ]
        }
      ]
    },
    {
      "cell_type": "markdown",
      "metadata": {
        "id": "544yxFpIQogp"
      },
      "source": [
        "Now display the inital conditions of the game using the following stylish manner :<br>\n",
        "\n",
        "`M = 0 C = 0  |-----B|  M = 3 C = 3`<br>\n",
        "\n",
        "Make sure to not hardcode all values."
      ]
    },
    {
      "cell_type": "code",
      "metadata": {
        "id": "EGp8GNBhQogq"
      },
      "source": [
        "#### Your code ####\n"
      ],
      "execution_count": null,
      "outputs": []
    },
    {
      "cell_type": "markdown",
      "metadata": {
        "id": "PObVD9tdQogq"
      },
      "source": [
        "## <center>**Lesson 2**</center>\n",
        "#### <center>**Adding the required valid and invalid conditions alongwith their operations**</center>\n"
      ]
    },
    {
      "cell_type": "markdown",
      "metadata": {
        "id": "2aDEi-SqQogq"
      },
      "source": [
        "Take input from the user for entering the number of missionaries and cannibals on the boat.<br>\n",
        "Store these values in 2 variables : `missionaries, cannibals`\n",
        "\n",
        "This part depicts the process of tapping the `missionaries` and `cannibals` on to the boat.  \n",
        "\n",
        "**Note :** Make sure you pass the appropriate message in the input function that assists user in entering the values.\n",
        "\n",
        "**Note :** The following code cells will be common for both right side and left side required in Lesson 3 and Lesson 4."
      ]
    },
    {
      "cell_type": "code",
      "metadata": {
        "id": "GEglqSjrQogr",
        "colab": {
          "base_uri": "https://localhost:8080/"
        },
        "outputId": "b5e1f042-cf22-4361-d162-2de200a869d5"
      },
      "source": [
        "missionaries = int(input(\"Enter the number of missionaries on boat \" + boat_side))\n",
        "cannibals = int(input(\"Enter the number of cannibals on boat \" + boat_side))\n"
      ],
      "execution_count": null,
      "outputs": [
        {
          "name": "stdout",
          "output_type": "stream",
          "text": [
            "Enter the number of missionaries on boat Right3\n",
            "Enter the number of cannibals on boat Right3\n"
          ]
        }
      ]
    },
    {
      "cell_type": "markdown",
      "metadata": {
        "id": "fVfioCyZQogs"
      },
      "source": [
        "**Invalid Move 1 :**\n",
        "\n",
        "Check if the maximum number of people on the boat are 1 or 2 only else print \"Invalid move 1\""
      ]
    },
    {
      "cell_type": "code",
      "metadata": {
        "id": "50I3KT4hQogs",
        "colab": {
          "base_uri": "https://localhost:8080/"
        },
        "outputId": "64abbf03-c3db-4c97-b836-b30969d1a931"
      },
      "source": [
        "if (missionaries+cannibals) !=1 and (missionaries+cannibals) !=2:\n",
        "  print(\"Invalid Move 1\")"
      ],
      "execution_count": null,
      "outputs": [
        {
          "output_type": "stream",
          "name": "stdout",
          "text": [
            "Invalid Move 1\n"
          ]
        }
      ]
    },
    {
      "cell_type": "markdown",
      "metadata": {
        "id": "Oe1ymzIIQogt"
      },
      "source": [
        "###  <center>**Codeflow for Right Side**</center>"
      ]
    },
    {
      "cell_type": "markdown",
      "source": [
        "Add if - else statement to check the value of `boat_side` variable and display if the boat is on right side.\n",
        "\n",
        "This is done to confirm the boat side before carrying out the required operations."
      ],
      "metadata": {
        "id": "SoyMGHXrZd28"
      }
    },
    {
      "cell_type": "code",
      "source": [
        "if boat_side == \"Right\":\n"
      ],
      "metadata": {
        "id": "E0035i_CZasN",
        "colab": {
          "base_uri": "https://localhost:8080/",
          "height": 106
        },
        "outputId": "ac55b141-3a7d-4e95-c021-27c0e8d5b579"
      },
      "execution_count": null,
      "outputs": [
        {
          "output_type": "error",
          "ename": "SyntaxError",
          "evalue": "incomplete input (<ipython-input-4-a6ddad6b27b2>, line 1)",
          "traceback": [
            "\u001b[0;36m  File \u001b[0;32m\"<ipython-input-4-a6ddad6b27b2>\"\u001b[0;36m, line \u001b[0;32m1\u001b[0m\n\u001b[0;31m    if boat_side == \"Right\":\u001b[0m\n\u001b[0m                            ^\u001b[0m\n\u001b[0;31mSyntaxError\u001b[0m\u001b[0;31m:\u001b[0m incomplete input\n"
          ]
        }
      ]
    },
    {
      "cell_type": "markdown",
      "source": [
        "**Invalid Move 2 :**\n",
        "\n",
        "Check if the number of missionaries or cannibals entered on the boat are greater than the available missionaries or cannibals on the right side. If yes, print \"Invalid move 2\"."
      ],
      "metadata": {
        "id": "Y8sYOlsqZolz"
      }
    },
    {
      "cell_type": "code",
      "metadata": {
        "id": "PzW5raCfQogt"
      },
      "source": [
        "if missionaries > missionaries_on_right or cannibals > cannibals_on_right:\n",
        "  print(\"Invalid Move 2\")"
      ],
      "execution_count": null,
      "outputs": []
    },
    {
      "cell_type": "code",
      "source": [],
      "metadata": {
        "id": "_nBfzYtsPsdn"
      },
      "execution_count": null,
      "outputs": []
    },
    {
      "cell_type": "markdown",
      "metadata": {
        "id": "d6wYZ7DLQogu"
      },
      "source": [
        "When the boat travels from right side to left side :\n",
        "- Number of missionaries and cannibals reduce from the right side.\n",
        "- Number of missionaries and cannibals increase on the left side."
      ]
    },
    {
      "cell_type": "code",
      "metadata": {
        "id": "rgbWSeUBQogu",
        "colab": {
          "base_uri": "https://localhost:8080/"
        },
        "outputId": "c4bbe4d2-07b8-42fd-eef0-868d76c4e080"
      },
      "source": [
        "missionaries_on_right -= missionaries\n",
        "cannibals_on_right -= cannibals\n",
        "missionaries_on_left += missionaries\n",
        "cannibals_on_left += cannibals\n",
        "boat_side = \"Left\"\n",
        "print(\"M =\",missionaries_on_left, \"C =\",cannibals_on_left, end=\" \")\n",
        "print(\"|B-----|\", end=\" \")\n",
        "print(\"M =\",missionaries_on_right, \"C\",cannibals_on_right, end=\" \")"
      ],
      "execution_count": null,
      "outputs": [
        {
          "output_type": "stream",
          "name": "stdout",
          "text": [
            "M = 3 C = 3 |B-----| M = 0 C 0 "
          ]
        }
      ]
    },
    {
      "cell_type": "markdown",
      "metadata": {
        "id": "US5ADpenQogv"
      },
      "source": [
        "Display in the same format as mentioned above.\n",
        "\n",
        "`M = 1 C = 1  |B-----|  M = 2 C = 2`\n",
        "\n",
        "Change the `boat_side` variable to 'Left' aswell.\n",
        "\n",
        "This variable overwrite is the equivalent of the boat travelling from right side to left side."
      ]
    },
    {
      "cell_type": "code",
      "metadata": {
        "id": "roWkGTzyQogv"
      },
      "source": [
        "### Your code ###"
      ],
      "execution_count": null,
      "outputs": []
    },
    {
      "cell_type": "markdown",
      "metadata": {
        "id": "WWKdADPJQogw"
      },
      "source": [
        "###  <center>**Codeflow for Left Side**</center>\n"
      ]
    },
    {
      "cell_type": "markdown",
      "source": [
        "Add if - else statement to check the value of `boat_side` variable and display if the boat is on left side.\n",
        "\n",
        "This is done to confirm the boat side before carrying out the required operations."
      ],
      "metadata": {
        "id": "94_ZSJi8dSvd"
      }
    },
    {
      "cell_type": "code",
      "source": [
        "if boat_side == \"Left\":\n",
        "  print(\"Left\")\n",
        "else:\n",
        "  print(\"Right\")"
      ],
      "metadata": {
        "id": "zGgX00C-dSIt",
        "colab": {
          "base_uri": "https://localhost:8080/"
        },
        "outputId": "e82ea79b-559d-4e17-e24e-28e1b174ffd1"
      },
      "execution_count": null,
      "outputs": [
        {
          "output_type": "stream",
          "name": "stdout",
          "text": [
            "Left\n"
          ]
        }
      ]
    },
    {
      "cell_type": "markdown",
      "source": [
        "**Invalid Move 2 :**\n",
        "\n",
        "Check if the number of missionaries or cannibals entered on the boat are greater than the available missionaries or cannibals on the left side. If yes, print \"Invalid move 2\"."
      ],
      "metadata": {
        "id": "hrTq7kv7dQ2u"
      }
    },
    {
      "cell_type": "code",
      "metadata": {
        "id": "XlrT8EEaQogw"
      },
      "source": [
        "if (missionaries_on_left < missionaries) or (cannibals_on_left < cannibals):\n",
        "  print(\"Invalid Move 2\")"
      ],
      "execution_count": null,
      "outputs": []
    },
    {
      "cell_type": "markdown",
      "metadata": {
        "id": "gdYiQ1WXQogw"
      },
      "source": [
        "When the boat travels from left side to right side :\n",
        "- Number of missionaries and cannibals reduce from the left side.\n",
        "- Number of missionaries and cannibals increase on the right side."
      ]
    },
    {
      "cell_type": "code",
      "metadata": {
        "id": "z196LJKBQogw",
        "colab": {
          "base_uri": "https://localhost:8080/"
        },
        "outputId": "5664c09f-7503-449b-dae9-f26a73ce18ee"
      },
      "source": [
        "missionaries_on_right -= missionaries\n",
        "cannibals_on_right -= cannibals\n",
        "missionaries_on_left += missionaries\n",
        "cannibals_on_left += cannibals\n",
        "boat_side = \"Right\"\n",
        "print(\"M =\",missionaries_on_left, \"C =\",cannibals_on_left, end=\" \")\n",
        "print(\"|-----B|\", end=\" \")\n",
        "print(\"M =\",missionaries_on_right, \"C\",cannibals_on_right, end=\" \")"
      ],
      "execution_count": null,
      "outputs": [
        {
          "output_type": "stream",
          "name": "stdout",
          "text": [
            "M = 9 C = 9 |-----B| M = -6 C -6 "
          ]
        }
      ]
    },
    {
      "cell_type": "markdown",
      "metadata": {
        "id": "oB-3nBCkQogx"
      },
      "source": [
        "Display in the same format as mentioned above.\n",
        "\n",
        "`M = 0 C = 0  |-----B|  M = 3 C = 3`\n",
        "\n",
        "Change the `boat_side` variable to 'Right'.\n",
        "\n",
        "This marks the boat being travelled back to right side."
      ]
    },
    {
      "cell_type": "code",
      "metadata": {
        "id": "mtt1iSkoQogx"
      },
      "source": [
        "### Your code ###"
      ],
      "execution_count": null,
      "outputs": []
    },
    {
      "cell_type": "markdown",
      "source": [
        "###  <center>**Conditions for Losing the Game**</center>"
      ],
      "metadata": {
        "id": "WKu9fCDCgvPb"
      }
    },
    {
      "cell_type": "markdown",
      "metadata": {
        "id": "sNJhIGL6Qogz"
      },
      "source": [
        "Add conditions to check if the game is lost :\n",
        "- If the number of missionaries is less than the number of cannibals on the right side and the number of missionaries on right side are greater than 0, then print `'YOU LOSE'`.\n",
        "- If the number of missionaries is less than the number of cannibals on the left side and the number of missionaries on left side are greater than 0, then print `'YOU LOSE'`."
      ]
    },
    {
      "cell_type": "code",
      "metadata": {
        "id": "zKqb4BADQog0"
      },
      "source": [
        "if ((missionaries_on_right < cannibals_on_right) and missionaries_on_right > 0) or ((missionaries_on_left < cannibals_on_left) and (missionaries_on_left > 0)):\n",
        "  print(\"You LOSE\")"
      ],
      "execution_count": null,
      "outputs": []
    },
    {
      "cell_type": "markdown",
      "source": [
        "###  <center>**Conditions for Winning the Game**</center>"
      ],
      "metadata": {
        "id": "3JdBVqIWhdwj"
      }
    },
    {
      "cell_type": "markdown",
      "metadata": {
        "id": "aS47ad6CQog0"
      },
      "source": [
        "Add conditions to check if the game is won :\n",
        "- If the number of missionaries and cannibals on the left side are equal to 3, then print `'YOU WIN'`."
      ]
    },
    {
      "cell_type": "code",
      "metadata": {
        "id": "5dW6W8gyQog0"
      },
      "source": [
        "if (missionaries_on_left and cannibals_on_left) == 3:\n",
        "  print(\"YOU WIN\")"
      ],
      "execution_count": null,
      "outputs": []
    },
    {
      "cell_type": "markdown",
      "metadata": {
        "id": "Si__xVHFQog1"
      },
      "source": [
        "## <center>**Lesson 3**</center>\n",
        "#### <center>**Combining all segments of the code to build the game**</center>"
      ]
    },
    {
      "cell_type": "markdown",
      "source": [
        "### **Structure of the Combined Code :**\n",
        "\n",
        "<center>\n",
        "\n",
        "```\n",
        "    Setup the inital game conditions and display your game board in the below format.\n",
        "     \n",
        "        M = 0 C = 0  |-----B|  M = 3 C = 3\n",
        "```\n",
        "</center>\n",
        "\n",
        " boat_side == \"Right\":\n",
        "\n",
        "<center>\n",
        "\n",
        "```\n",
        "    Check the maximum number of people permitted to travel on the boat.    \n",
        "```\n",
        "```\n",
        "    Now check if the number of missionaries or cannibals entered on the\n",
        "    boat are more than the available missionaries and cannibals on the  \n",
        "    right side.\n",
        "```   \n",
        "```\n",
        "    When the boat travels from the right side, missionaries and cannibals\n",
        "    reduce from the right side and increase on the left side.    \n",
        "```     \n",
        "```\n",
        "    Display your game board in the below format.\n",
        "    \n",
        "        M = 0 C = 0  |B-----|  M = 3 C = 3\n",
        "\n",
        "    Make the necessary changes that mark the side change from right side to left side.\n",
        "```\n",
        "</center>\n",
        "\n",
        " boat_side == \"Left\":\n",
        "\n",
        "<center>\n",
        "\n",
        "```\n",
        "    Check the maximum number of people permitted to travel on the boat.    \n",
        "```\n",
        "```\n",
        "    Now check if the number of missionaries or cannibals entered on the\n",
        "    boat are more than the available missionaries and cannibals on the  \n",
        "    left side.\n",
        "```   \n",
        "```\n",
        "    When the boat travels from the left side, missionaries and cannibals\n",
        "    reduce from the left side and increase on the right side.    \n",
        "```\n",
        "```\n",
        "    Display your game board in the below format.\n",
        "    \n",
        "    M = 0 C = 0  |-----B|  M = 3 C = 3\n",
        "\n",
        "    Make the necessary changes that mark the side change from left side to right side.\n",
        "```\n",
        "</center>"
      ],
      "metadata": {
        "id": "e7uW2kToiKsv"
      }
    },
    {
      "cell_type": "markdown",
      "metadata": {
        "id": "IiNzyXCJQog1"
      },
      "source": [
        "The game must go on until you win or lose, so lets put all the conditions inside an infinite loop :\n",
        "\n",
        "- Connect all the segments of the code according to the above structure and do the necessary amendments.\n",
        "- If a move is invalid then without making any changes, you have to `continue`.\n",
        "\n",
        "  This is done so that we get a second chance to change our inputs and start over from the same point without losing previous amendments.\n",
        "\n",
        "- If you Win or Lose the game `break` the loop and get out of it.\n",
        "- Check the winning and losing condition everytime after the boat has travelled.\n",
        "- After getting out of the loop print `Game Over`."
      ]
    },
    {
      "cell_type": "code",
      "metadata": {
        "id": "xUjfSzZuQog1",
        "colab": {
          "base_uri": "https://localhost:8080/",
          "height": 425
        },
        "outputId": "279fbe39-c047-4c21-ee72-ef9bc10e2a05"
      },
      "source": [
        "boat_side = \"Right\"\n",
        "missionaries_on_right = 3\n",
        "cannibals_on_right = 3\n",
        "missionaries_on_left = 0\n",
        "cannibals_on_left = 0\n",
        "\n",
        "print(\"Right_Side\")\n",
        "print(\"M = \",missionaries_on_left, \"C = \",cannibals_on_left, end=\" \")\n",
        "print(\"|-----B|\", end=\" \")\n",
        "print(\"M = \",missionaries_on_right, \"C = \",cannibals_on_right, end=\" \")\n",
        "while True:\n",
        "  if boat_side == \"Right\":\n",
        "\n",
        "    missionaries = int(input(\"Enter the number of missionaries on boat \" + boat_side))\n",
        "    cannibals = int(input(\"Enter the number of cannibals on boat \" + boat_side))\n",
        "\n",
        "    if (missionaries + cannibals) !=1 and (missionaries + cannibals) !=2:\n",
        "      print(\"Invalid Move 1\")\n",
        "      continue\n",
        "    else:\n",
        "      if (missionaries_on_left < missionaries) or (cannibals_on_left < cannibals):\n",
        "        print(\"Invalid Move 2\")\n",
        "\n",
        "        '''above statement should be like that  -\n",
        "        if (missionaries_on_right < missionaries) or (cannibals_on_right < cannibals):\n",
        "        print('Invalid Move 2')      '''\n",
        "\n",
        "        continue\n",
        "\n",
        "      else:\n",
        "        missionaries_on_right -= missionaries\n",
        "        cannibals_on_right -= cannibals\n",
        "        missionaries_on_left += missionaries\n",
        "        cannibals_on_left += cannibals\n",
        "\n",
        "        print(\"M =\",missionaries_on_left, \"C =\",cannibals_on_left, end=\" \")\n",
        "        print(\"|B-----|\", end=\" \")\n",
        "        print(\"M =\",missionaries_on_right, \"C\",cannibals_on_right, end=\" \")\n",
        "\n",
        "        boat_side = \"Left\"\n",
        "\n",
        "  elif boat_side == \"Left\":\n",
        "\n",
        "    missionaries = int(input(\"Enter the number of missionaries on boat \" + boat_side))\n",
        "    cannibals = int(input(\"Enter the number of cannibals on boat \" + boat_side))\n",
        "\n",
        "    if (missionaries + cannibals) !=1 and (missionaries + cannibals) !=2:\n",
        "      print(\"Invalid Move 1\")\n",
        "      continue\n",
        "\n",
        "    if (missionaries_on_left < missionaries) or (cannibals_on_left < cannibals):\n",
        "        print(\"Invalid Move 2\")\n",
        "        continue\n",
        "      else:\n",
        "        missionaries_on_right -= missionaries\n",
        "        cannibals_on_right -= cannibals\n",
        "        missionaries_on_left += missionaries\n",
        "        cannibals_on_left += cannibals\n",
        "\n",
        "        ''' above code shoule be like this\n",
        "\n",
        "        cannibals_on_left -= cannibals\n",
        "        missionaries_on_left -= missionaries\n",
        "        cannibals_on_right += cannibals\n",
        "        missionaries_on_right += missionaries\n",
        "'''\n",
        "\n",
        "        print(\"M =\",missionaries_on_left, \"C =\",cannibals_on_left, end=\" \")\n",
        "        print(\"|-----B|\", end=\" \")\n",
        "        print(\"M =\",missionaries_on_right, \"C\",cannibals_on_right, end=\" \")\n",
        "\n",
        "\n",
        "      boat_side = \"Right\"\n",
        "\n",
        "  if ((missionaries_on_right < cannibals_on_right) and missionaries_on_right > 0) or ((missionaries_on_left < cannibals_on_left) and (missionaries_on_left > 0)):\n",
        "    print(\"You LOSE\")\n",
        "    break\n",
        "  elif (missionaries_on_left and cannibals_on_left) == 3:\n",
        "    print(\"YOU WIN\")\n",
        "    break\n",
        "  print(\"Game Over\")"
      ],
      "execution_count": null,
      "outputs": [
        {
          "output_type": "stream",
          "name": "stdout",
          "text": [
            "Right_Side\n",
            "M =  0 C =  0 |-----B| M =  3 C =  3 Enter the number of missionaries on boat Right0\n",
            "Enter the number of cannibals on boat Right2\n",
            "Invalid Move 2\n"
          ]
        },
        {
          "output_type": "error",
          "ename": "KeyboardInterrupt",
          "evalue": "Interrupted by user",
          "traceback": [
            "\u001b[0;31m---------------------------------------------------------------------------\u001b[0m",
            "\u001b[0;31mKeyboardInterrupt\u001b[0m                         Traceback (most recent call last)",
            "\u001b[0;32m<ipython-input-3-e8f9ea820e92>\u001b[0m in \u001b[0;36m<cell line: 0>\u001b[0;34m()\u001b[0m\n\u001b[1;32m     12\u001b[0m   \u001b[0;32mif\u001b[0m \u001b[0mboat_side\u001b[0m \u001b[0;34m==\u001b[0m \u001b[0;34m\"Right\"\u001b[0m\u001b[0;34m:\u001b[0m\u001b[0;34m\u001b[0m\u001b[0;34m\u001b[0m\u001b[0m\n\u001b[1;32m     13\u001b[0m \u001b[0;34m\u001b[0m\u001b[0m\n\u001b[0;32m---> 14\u001b[0;31m     \u001b[0mmissionaries\u001b[0m \u001b[0;34m=\u001b[0m \u001b[0mint\u001b[0m\u001b[0;34m(\u001b[0m\u001b[0minput\u001b[0m\u001b[0;34m(\u001b[0m\u001b[0;34m\"Enter the number of missionaries on boat \"\u001b[0m \u001b[0;34m+\u001b[0m \u001b[0mboat_side\u001b[0m\u001b[0;34m)\u001b[0m\u001b[0;34m)\u001b[0m\u001b[0;34m\u001b[0m\u001b[0;34m\u001b[0m\u001b[0m\n\u001b[0m\u001b[1;32m     15\u001b[0m     \u001b[0mcannibals\u001b[0m \u001b[0;34m=\u001b[0m \u001b[0mint\u001b[0m\u001b[0;34m(\u001b[0m\u001b[0minput\u001b[0m\u001b[0;34m(\u001b[0m\u001b[0;34m\"Enter the number of cannibals on boat \"\u001b[0m \u001b[0;34m+\u001b[0m \u001b[0mboat_side\u001b[0m\u001b[0;34m)\u001b[0m\u001b[0;34m)\u001b[0m\u001b[0;34m\u001b[0m\u001b[0;34m\u001b[0m\u001b[0m\n\u001b[1;32m     16\u001b[0m \u001b[0;34m\u001b[0m\u001b[0m\n",
            "\u001b[0;32m/usr/local/lib/python3.11/dist-packages/ipykernel/kernelbase.py\u001b[0m in \u001b[0;36mraw_input\u001b[0;34m(self, prompt)\u001b[0m\n\u001b[1;32m   1175\u001b[0m                 \u001b[0;34m\"raw_input was called, but this frontend does not support input requests.\"\u001b[0m\u001b[0;34m\u001b[0m\u001b[0;34m\u001b[0m\u001b[0m\n\u001b[1;32m   1176\u001b[0m             )\n\u001b[0;32m-> 1177\u001b[0;31m         return self._input_request(\n\u001b[0m\u001b[1;32m   1178\u001b[0m             \u001b[0mstr\u001b[0m\u001b[0;34m(\u001b[0m\u001b[0mprompt\u001b[0m\u001b[0;34m)\u001b[0m\u001b[0;34m,\u001b[0m\u001b[0;34m\u001b[0m\u001b[0;34m\u001b[0m\u001b[0m\n\u001b[1;32m   1179\u001b[0m             \u001b[0mself\u001b[0m\u001b[0;34m.\u001b[0m\u001b[0m_parent_ident\u001b[0m\u001b[0;34m[\u001b[0m\u001b[0;34m\"shell\"\u001b[0m\u001b[0;34m]\u001b[0m\u001b[0;34m,\u001b[0m\u001b[0;34m\u001b[0m\u001b[0;34m\u001b[0m\u001b[0m\n",
            "\u001b[0;32m/usr/local/lib/python3.11/dist-packages/ipykernel/kernelbase.py\u001b[0m in \u001b[0;36m_input_request\u001b[0;34m(self, prompt, ident, parent, password)\u001b[0m\n\u001b[1;32m   1217\u001b[0m             \u001b[0;32mexcept\u001b[0m \u001b[0mKeyboardInterrupt\u001b[0m\u001b[0;34m:\u001b[0m\u001b[0;34m\u001b[0m\u001b[0;34m\u001b[0m\u001b[0m\n\u001b[1;32m   1218\u001b[0m                 \u001b[0;31m# re-raise KeyboardInterrupt, to truncate traceback\u001b[0m\u001b[0;34m\u001b[0m\u001b[0;34m\u001b[0m\u001b[0m\n\u001b[0;32m-> 1219\u001b[0;31m                 \u001b[0;32mraise\u001b[0m \u001b[0mKeyboardInterrupt\u001b[0m\u001b[0;34m(\u001b[0m\u001b[0;34m\"Interrupted by user\"\u001b[0m\u001b[0;34m)\u001b[0m \u001b[0;32mfrom\u001b[0m \u001b[0;32mNone\u001b[0m\u001b[0;34m\u001b[0m\u001b[0;34m\u001b[0m\u001b[0m\n\u001b[0m\u001b[1;32m   1220\u001b[0m             \u001b[0;32mexcept\u001b[0m \u001b[0mException\u001b[0m\u001b[0;34m:\u001b[0m\u001b[0;34m\u001b[0m\u001b[0;34m\u001b[0m\u001b[0m\n\u001b[1;32m   1221\u001b[0m                 \u001b[0mself\u001b[0m\u001b[0;34m.\u001b[0m\u001b[0mlog\u001b[0m\u001b[0;34m.\u001b[0m\u001b[0mwarning\u001b[0m\u001b[0;34m(\u001b[0m\u001b[0;34m\"Invalid Message:\"\u001b[0m\u001b[0;34m,\u001b[0m \u001b[0mexc_info\u001b[0m\u001b[0;34m=\u001b[0m\u001b[0;32mTrue\u001b[0m\u001b[0;34m)\u001b[0m\u001b[0;34m\u001b[0m\u001b[0;34m\u001b[0m\u001b[0m\n",
            "\u001b[0;31mKeyboardInterrupt\u001b[0m: Interrupted by user"
          ]
        }
      ]
    },
    {
      "cell_type": "code",
      "source": [
        "### Your code ###\n",
        "boat_side = 'Right'\n",
        "missionaries_on_right = 3\n",
        "cannibals_on_right = 3\n",
        "missionaries_on_left = 0\n",
        "cannibals_on_left = 0\n",
        "\n",
        "print('Right Side')\n",
        "print('M = '+str(missionaries_on_left) +' C = ' + str(cannibals_on_left) + '|-----B|' + 'M = ' + str(missionaries_on_right) + ' C = ' +str(cannibals_on_right))\n",
        "\n",
        "while True:\n",
        "\n",
        "  ## BOAT ON RIGHT SIDE\n",
        "  if boat_side == 'Right':\n",
        "\n",
        "    missionaries = int(input('ENTER THE NUMBER OF MISSIONARIES ON BOAT: '))\n",
        "    cannibals = int(input('ENTER THE NUMBER OF CANNIBALS BOAT: '))\n",
        "\n",
        "    if (missionaries + cannibals)<0 or (missionaries + cannibals)>2:\n",
        "      print('Invalid Move 1')\n",
        "      continue\n",
        "    else:\n",
        "      if (missionaries_on_right < missionaries) or (cannibals_on_right < cannibals):\n",
        "        print('Invalid Move 2')\n",
        "        continue\n",
        "\n",
        "      else:\n",
        "        cannibals_on_right -= cannibals\n",
        "        missionaries_on_right -= missionaries\n",
        "        cannibals_on_left += cannibals\n",
        "        missionaries_on_left += missionaries\n",
        "\n",
        "        print('M = '+str(missionaries_on_left) +' C = ' + str(cannibals_on_left) + '|B-----|' + 'M = ' + str(missionaries_on_right) + ' C = ' +str(cannibals_on_right))\n",
        "        boat_side = 'Left'\n",
        "\n",
        "  ## BOAT ON LEFT SIDE\n",
        "  elif boat_side == 'Left':\n",
        "\n",
        "    missionaries = int(input('ENTER THE NUMBER OF MISSIONARIES ON BOAT: '))\n",
        "    cannibals = int(input('ENTER THE NUMBER OF CANNIBALS BOAT: '))\n",
        "\n",
        "    if (missionaries + cannibals) < 0 or (missionaries + cannibals) > 2 :\n",
        "      print('Invalid Move 1')\n",
        "      continue\n",
        "    else:\n",
        "      if (missionaries_on_left < missionaries) or (cannibals_on_left < cannibals):\n",
        "        print('Invalid Move 2')\n",
        "        continue\n",
        "      else:\n",
        "        cannibals_on_left -= cannibals\n",
        "        missionaries_on_left -= missionaries\n",
        "        cannibals_on_right += cannibals\n",
        "        missionaries_on_right += missionaries\n",
        "\n",
        "        print('M = '+str(missionaries_on_left) +' C = ' + str(cannibals_on_left) + '|-----B|' + 'M = ' + str(missionaries_on_right) + ' C = ' +str(cannibals_on_right))\n",
        "        boat_side = 'Right'\n",
        "\n",
        "  ### GAME RESULT\n",
        "  if ((missionaries_on_right < cannibals_on_right) and (missionaries_on_right > 0)) or ((missionaries_on_left < cannibals_on_left) and (missionaries_on_left > 0)):\n",
        "    print('YOU LOSE')\n",
        "    break\n",
        "\n",
        "  elif (missionaries_on_left and cannibals_on_left) == 3:\n",
        "    print('YOU WIN')\n",
        "    break\n",
        "\n",
        "print('GAME OVER')"
      ],
      "metadata": {
        "colab": {
          "base_uri": "https://localhost:8080/"
        },
        "id": "YHqWRH0lb9FJ",
        "outputId": "746f7e30-1236-4448-fa8f-dd7151c16b64"
      },
      "execution_count": null,
      "outputs": [
        {
          "output_type": "stream",
          "name": "stdout",
          "text": [
            "Right Side\n",
            "M = 0 C = 0|-----B|M = 3 C = 3\n",
            "ENTER THE NUMBER OF MISSIONARIES ON BOAT: 0\n",
            "ENTER THE NUMBER OF CANNIBALS BOAT: 2\n",
            "M = 0 C = 2|B-----|M = 3 C = 1\n",
            "ENTER THE NUMBER OF MISSIONARIES ON BOAT: 0\n",
            "ENTER THE NUMBER OF CANNIBALS BOAT: 1\n",
            "M = 0 C = 1|-----B|M = 3 C = 2\n",
            "ENTER THE NUMBER OF MISSIONARIES ON BOAT: 0\n",
            "ENTER THE NUMBER OF CANNIBALS BOAT: 2\n",
            "M = 0 C = 3|B-----|M = 3 C = 0\n",
            "ENTER THE NUMBER OF MISSIONARIES ON BOAT: 0\n",
            "ENTER THE NUMBER OF CANNIBALS BOAT: 1\n",
            "M = 0 C = 2|-----B|M = 3 C = 1\n",
            "ENTER THE NUMBER OF MISSIONARIES ON BOAT: 2\n",
            "ENTER THE NUMBER OF CANNIBALS BOAT: 0\n",
            "M = 2 C = 2|B-----|M = 1 C = 1\n",
            "ENTER THE NUMBER OF MISSIONARIES ON BOAT: 0\n",
            "ENTER THE NUMBER OF CANNIBALS BOAT: 0\n",
            "M = 2 C = 2|-----B|M = 1 C = 1\n",
            "ENTER THE NUMBER OF MISSIONARIES ON BOAT: 0\n",
            "ENTER THE NUMBER OF CANNIBALS BOAT: 0\n",
            "M = 2 C = 2|B-----|M = 1 C = 1\n",
            "ENTER THE NUMBER OF MISSIONARIES ON BOAT: 1\n",
            "ENTER THE NUMBER OF CANNIBALS BOAT: 1\n",
            "M = 1 C = 1|-----B|M = 2 C = 2\n",
            "ENTER THE NUMBER OF MISSIONARIES ON BOAT: 2\n",
            "ENTER THE NUMBER OF CANNIBALS BOAT: 0\n",
            "M = 3 C = 1|B-----|M = 0 C = 2\n",
            "ENTER THE NUMBER OF MISSIONARIES ON BOAT: 0\n",
            "ENTER THE NUMBER OF CANNIBALS BOAT: 1\n",
            "M = 3 C = 0|-----B|M = 0 C = 3\n",
            "ENTER THE NUMBER OF MISSIONARIES ON BOAT: 0\n",
            "ENTER THE NUMBER OF CANNIBALS BOAT: 2\n",
            "M = 3 C = 2|B-----|M = 0 C = 1\n",
            "ENTER THE NUMBER OF MISSIONARIES ON BOAT: 0\n",
            "ENTER THE NUMBER OF CANNIBALS BOAT: 1\n",
            "M = 3 C = 1|-----B|M = 0 C = 2\n",
            "ENTER THE NUMBER OF MISSIONARIES ON BOAT: 0\n",
            "ENTER THE NUMBER OF CANNIBALS BOAT: 2\n",
            "M = 3 C = 3|B-----|M = 0 C = 0\n",
            "YOU WIN\n",
            "GAME OVER\n"
          ]
        }
      ]
    },
    {
      "cell_type": "code",
      "source": [],
      "metadata": {
        "id": "UnOeYQybnKvg"
      },
      "execution_count": null,
      "outputs": []
    },
    {
      "cell_type": "markdown",
      "source": [],
      "metadata": {
        "id": "XchHCcPPROU-"
      }
    },
    {
      "cell_type": "code",
      "source": [
        "\n",
        "#Python program to illustrate Missionaries & cannibals Problem\n",
        "#This code is contributed by Sunit Mal\n",
        "print(\"\\n\")\n",
        "print(\"\\tGame Start\\nNow the task is to move all of them to right side of the river\")\n",
        "print(\"rules:\\n1. The boat can carry at most two people\\n2. If cannibals num greater than missionaries then the cannibals would eat the missionaries\\n3. The boat cannot cross the river by itself with no people on board\")\n",
        "lM = 3\t\t #lM = Left side Missionaries number\n",
        "lC = 3\t\t #lC = Laft side Cannibals number\n",
        "rM=0\t\t #rM = Right side Missionaries number\n",
        "rC=0\t\t #rC = Right side cannibals number\n",
        "userM = 0\t #userM = User input for number of missionaries for right to left side travel\n",
        "userC = 0\t #userC = User input for number of cannibals for right to left travel\n",
        "k = 0\n",
        "print(\"\\nM M M C C C |\t --- | \\n\")\n",
        "try:\n",
        "\twhile(True):\n",
        "\t\twhile(True):\n",
        "\t\t\tprint(\"Left side -> right side river travel\")\n",
        "\t\t\t#uM = user input for number of missionaries for left to right travel\n",
        "\t\t\t#uC = user input for number of cannibals for left to right travel\n",
        "\t\t\tuM = int(input(\"Enter number of Missionaries travel => \"))\n",
        "\t\t\tuC = int(input(\"Enter number of Cannibals travel => \"))\n",
        "\n",
        "\t\t\tif((uM==0)and(uC==0)):\n",
        "\t\t\t\tprint(\"Empty travel not possible\")\n",
        "\t\t\t\tprint(\"Re-enter : \")\n",
        "\t\t\telif(((uM+uC) <= 2)and((lM-uM)>=0)and((lC-uC)>=0)):\n",
        "\t\t\t\tbreak\n",
        "\t\t\telse:\n",
        "\t\t\t\tprint(\"Wrong input re-enter : \")\n",
        "\t\tlM = (lM-uM)\n",
        "\t\tlC = (lC-uC)\n",
        "\t\trM += uM\n",
        "\t\trC += uC\n",
        "\n",
        "\t\tprint(\"\\n\")\n",
        "\t\tfor i in range(0,lM):\n",
        "\t\t\tprint(\"M \",end=\"\")\n",
        "\t\tfor i in range(0,lC):\n",
        "\t\t\tprint(\"C \",end=\"\")\n",
        "\t\tprint(\"| --> | \",end=\"\")\n",
        "\t\tfor i in range(0,rM):\n",
        "\t\t\tprint(\"M \",end=\"\")\n",
        "\t\tfor i in range(0,rC):\n",
        "\t\t\tprint(\"C \",end=\"\")\n",
        "\t\tprint(\"\\n\")\n",
        "\n",
        "\t\tk +=1\n",
        "\n",
        "\t\tif(((lC==3)and (lM == 1))or((lC==3)and(lM==2))or((lC==2)and(lM==1))or((rC==3)and (rM == 1))or((rC==3)and(rM==2))or((rC==2)and(rM==1))):\n",
        "\t\t\tprint(\"Cannibals eat missionaries:\\nYou lost the game\")\n",
        "\n",
        "\t\t\tbreak\n",
        "\n",
        "\t\tif((rM+rC) == 6):\n",
        "\t\t\tprint(\"You won the game : \\n\\tCongrats\")\n",
        "\t\t\tprint(\"Total attempt\")\n",
        "\t\t\tprint(k)\n",
        "\t\t\tbreak\n",
        "\t\twhile(True):\n",
        "\t\t\tprint(\"Right side -> Left side river travel\")\n",
        "\t\t\tuserM = int(input(\"Enter number of Missionaries travel => \"))\n",
        "\t\t\tuserC = int(input(\"Enter number of Cannibals travel => \"))\n",
        "\n",
        "\t\t\tif((userM==0)and(userC==0)):\n",
        "\t\t\t\t\tprint(\"Empty travel not possible\")\n",
        "\t\t\t\t\tprint(\"Re-enter : \")\n",
        "\t\t\telif(((userM+userC) <= 2)and((rM-userM)>=0)and((rC-userC)>=0)):\n",
        "\t\t\t\tbreak\n",
        "\t\t\telse:\n",
        "\t\t\t\tprint(\"Wrong input re-enter : \")\n",
        "\t\tlM += userM\n",
        "\t\tlC += userC\n",
        "\t\trM -= userM\n",
        "\t\trC -= userC\n",
        "\n",
        "\t\tk +=1\n",
        "\t\tprint(\"\\n\")\n",
        "\t\tfor i in range(0,lM):\n",
        "\t\t\tprint(\"M \",end=\"\")\n",
        "\t\tfor i in range(0,lC):\n",
        "\t\t\tprint(\"C \",end=\"\")\n",
        "\t\tprint(\"| <-- | \",end=\"\")\n",
        "\t\tfor i in range(0,rM):\n",
        "\t\t\tprint(\"M \",end=\"\")\n",
        "\t\tfor i in range(0,rC):\n",
        "\t\t\tprint(\"C \",end=\"\")\n",
        "\t\tprint(\"\\n\")\n",
        "\n",
        "\n",
        "\n",
        "\t\tif(((lC==3)and (lM == 1))or((lC==3)and(lM==2))or((lC==2)and(lM==1))or((rC==3)and (rM == 1))or((rC==3)and(rM==2))or((rC==2)and(rM==1))):\n",
        "\t\t\tprint(\"Cannibals eat missionaries:\\nYou lost the game\")\n",
        "\t\t\tbreak\n",
        "except EOFError as e:\n",
        "\tprint(\"\\nInvalid input please retry !!\")\n"
      ],
      "metadata": {
        "colab": {
          "base_uri": "https://localhost:8080/"
        },
        "id": "wW6m4TOEDtOT",
        "outputId": "e9013a40-58d1-43c7-a698-bd3699c20059"
      },
      "execution_count": null,
      "outputs": [
        {
          "output_type": "stream",
          "name": "stdout",
          "text": [
            "\n",
            "\n",
            "\tGame Start\n",
            "Now the task is to move all of them to right side of the river\n",
            "rules:\n",
            "1. The boat can carry at most two people\n",
            "2. If cannibals num greater than missionaries then the cannibals would eat the missionaries\n",
            "3. The boat cannot cross the river by itself with no people on board\n",
            "\n",
            "M M M C C C |\t --- | \n",
            "\n",
            "Left side -> right side river travel\n",
            "Enter number of Missionaries travel => 0\n",
            "Enter number of Cannibals travel => 2\n",
            "\n",
            "\n",
            "M M M C | --> | C C \n",
            "\n",
            "Right side -> Left side river travel\n",
            "Enter number of Missionaries travel => 0\n",
            "Enter number of Cannibals travel => 1\n",
            "\n",
            "\n",
            "M M M C C | <-- | C \n",
            "\n",
            "Left side -> right side river travel\n",
            "Enter number of Missionaries travel => 0\n",
            "Enter number of Cannibals travel => 2\n",
            "\n",
            "\n",
            "M M M | --> | C C C \n",
            "\n",
            "Right side -> Left side river travel\n",
            "Enter number of Missionaries travel => 0\n",
            "Enter number of Cannibals travel => 1\n",
            "\n",
            "\n",
            "M M M C | <-- | C C \n",
            "\n",
            "Left side -> right side river travel\n",
            "Enter number of Missionaries travel => 2\n",
            "Enter number of Cannibals travel => 0\n",
            "\n",
            "\n",
            "M C | --> | M M C C \n",
            "\n",
            "Right side -> Left side river travel\n",
            "Enter number of Missionaries travel => 0\n",
            "Enter number of Cannibals travel => 0\n",
            "Empty travel not possible\n",
            "Re-enter : \n",
            "Right side -> Left side river travel\n",
            "Enter number of Missionaries travel => 1\n",
            "Enter number of Cannibals travel => 1\n",
            "\n",
            "\n",
            "M M C C | <-- | M C \n",
            "\n",
            "Left side -> right side river travel\n",
            "Enter number of Missionaries travel => 2\n",
            "Enter number of Cannibals travel => 0\n",
            "\n",
            "\n",
            "C C | --> | M M M C \n",
            "\n",
            "Right side -> Left side river travel\n",
            "Enter number of Missionaries travel => 0\n",
            "Enter number of Cannibals travel => 1\n",
            "\n",
            "\n",
            "C C C | <-- | M M M \n",
            "\n",
            "Left side -> right side river travel\n",
            "Enter number of Missionaries travel => 0\n",
            "Enter number of Cannibals travel => 2\n",
            "\n",
            "\n",
            "C | --> | M M M C C \n",
            "\n",
            "Right side -> Left side river travel\n",
            "Enter number of Missionaries travel => 0\n",
            "Enter number of Cannibals travel => 1\n",
            "\n",
            "\n",
            "C C | <-- | M M M C \n",
            "\n",
            "Left side -> right side river travel\n",
            "Enter number of Missionaries travel => 0\n",
            "Enter number of Cannibals travel => 2\n",
            "\n",
            "\n",
            "| --> | M M M C C C \n",
            "\n",
            "You won the game : \n",
            "\tCongrats\n",
            "Total attempt\n",
            "11\n"
          ]
        }
      ]
    },
    {
      "cell_type": "code",
      "source": [
        "boat_side = \"Right \"\n",
        "missionaries_on_right = 3\n",
        "cannibals_on_right = 3\n",
        "missionaries_on_left = 0\n",
        "cannibals_on_left = 0\n",
        "\n",
        "print(\"Right_Side\")\n",
        "print(\"M = \",missionaries_on_left, \"C = \",cannibals_on_left, end=\" \")\n",
        "print(\"|-----B|\", end=\" \")\n",
        "print(\"M = \",missionaries_on_right, \"C = \",cannibals_on_right, end=\" \")\n",
        "\n",
        "while True:\n",
        "  if boat_side == \"Right \":\n",
        "\n",
        "    missionaries = int(input(\"Enter the number of missionaries on boat \" + boat_side))\n",
        "    cannibals = int(input(\"Enter the number of cannibals on boat \" + boat_side))\n",
        "\n",
        "    if (missionaries + cannibals) !=1 and (missionaries + cannibals) !=2:\n",
        "      print(\"Invalid Move 1\")\n",
        "      continue\n",
        "    else:\n",
        "      if (missionaries_on_right < missionaries) or (cannibals_on_right < cannibals):\n",
        "        print(\"Invalid Move 2\")\n",
        "\n",
        "        '''above statement should be like that  -\n",
        "        if (missionaries_on_right < missionaries) or (cannibals_on_right < cannibals):\n",
        "        print('Invalid Move 2')      '''\n",
        "\n",
        "        continue\n",
        "\n",
        "      else:\n",
        "        missionaries_on_right -= missionaries\n",
        "        cannibals_on_right -= cannibals\n",
        "        missionaries_on_left += missionaries\n",
        "        cannibals_on_left += cannibals\n",
        "\n",
        "        print(\"M =\",missionaries_on_left, \"C =\",cannibals_on_left, end=\" \")\n",
        "        print(\"|B-----|\", end=\" \")\n",
        "        print(\"M =\",missionaries_on_right, \"C = \",cannibals_on_right, end=\" \")\n",
        "\n",
        "        boat_side = \"Left \"\n",
        "\n",
        "  elif boat_side == \"Left \":\n",
        "\n",
        "    missionaries = int(input(\"Enter the number of missionaries on boat \" + boat_side))\n",
        "    cannibals = int(input(\"Enter the number of cannibals on boat \" + boat_side))\n",
        "\n",
        "    if (missionaries + cannibals) !=1 and (missionaries + cannibals) !=2:\n",
        "      print(\"Invalid Move 1\")\n",
        "      continue\n",
        "\n",
        "    if (missionaries_on_left < missionaries) or (cannibals_on_left < cannibals):\n",
        "        print(\"Invalid Move 2\")\n",
        "        continue\n",
        "    else:\n",
        "        missionaries_on_right += missionaries\n",
        "        cannibals_on_right += cannibals\n",
        "        missionaries_on_left -= missionaries\n",
        "        cannibals_on_left -= cannibals\n",
        "\n",
        "        ''' above code shoule be like this\n",
        "\n",
        "        cannibals_on_left -= cannibals\n",
        "        missionaries_on_left -= missionaries\n",
        "        cannibals_on_right += cannibals\n",
        "        missionaries_on_right += missionaries\n",
        "'''\n",
        "\n",
        "        print(\"M =\",missionaries_on_left, \"C =\",cannibals_on_left, end=\" \")\n",
        "        print(\"|-----B|\", end=\" \")\n",
        "        print(\"M =\",missionaries_on_right, \"C\",cannibals_on_right, end=\" \")\n",
        "        boat_side = \"Right \"\n",
        "\n",
        "  if ((missionaries_on_right < cannibals_on_right) and missionaries_on_right > 0) or ((missionaries_on_left < cannibals_on_left) and (missionaries_on_left > 0)):\n",
        "    print(\"You LOSE\")\n",
        "    break\n",
        "  elif (missionaries_on_left and cannibals_on_left) == 3:\n",
        "    print(\"YOU WIN\")\n",
        "    break\n",
        "    print(\"Game Over\")"
      ],
      "metadata": {
        "colab": {
          "base_uri": "https://localhost:8080/"
        },
        "id": "6Ylsv5HNnU8M",
        "outputId": "76740831-e286-4f36-e23d-0ff5e91d3c5d"
      },
      "execution_count": null,
      "outputs": [
        {
          "output_type": "stream",
          "name": "stdout",
          "text": [
            "Right_Side\n",
            "M =  0 C =  0 |-----B| M =  3 C =  3 Enter the number of missionaries on boat Right 2\n",
            "Enter the number of cannibals on boat Right 0\n",
            "M = 2 C = 0 |B-----| M = 1 C =  3 You LOSE\n"
          ]
        }
      ]
    },
    {
      "cell_type": "markdown",
      "source": [
        "## <center>**Lesson 4**</center>\n",
        "\n",
        "####<center>**Adding emoticons to complete the game with better interface**</center>"
      ],
      "metadata": {
        "id": "FZHREN7aVHTa"
      }
    },
    {
      "cell_type": "markdown",
      "metadata": {
        "id": "-hIyuzsJQog3"
      },
      "source": [
        "###  Let's make it pretty!\n",
        "\n",
        "#### Clear Screen :\n",
        "- This is a `function` that is utilized to clear the screen after every input statement and helps us to reduce the huge output generated after playing the game built in Lesson 3.\n",
        "  \n",
        "- Copy the following code snippet and paste at the top of your code:\n",
        "\n",
        "  `from IPython.display import clear_output`\n",
        "\n",
        "- Decide its place in the code such that after using it, we should be able to see the changes done after carrying out all the operations of that side and assists us in deciding our next move for the opposite side.\n",
        "\n",
        "  `clear_output()`\n",
        "\n",
        "#### Adding Emoticons :\n",
        "- Use the power of unicodes and emoticons.\n",
        "- Use of string replication.\n",
        "- **Hint :** The unicodes are in string datatype string and display using print function.\n",
        "\n",
        "**The output should look like this after making all the changes**\n",
        "\n",
        "|🌊🌊🌊🌊🌊🚢|💂💂💂👹👹👹\n",
        "<br>\n",
        "After the first move, if we input 1 missionary and 1 cannibal the output will be:\n",
        "\n",
        "💂👹|🌊🌊🌊🌊🌊🚢|💂💂👹👹\n",
        "\n",
        "##### Unicodes\n",
        "💂 = '\\U0001f482'\n",
        "\n",
        "👹 = '\\U0001f479'\n",
        "\n",
        "🌊 = '\\U0001f30a'\n",
        "\n",
        "🚢 = '\\U0001f6A2'"
      ]
    },
    {
      "cell_type": "code",
      "metadata": {
        "id": "Cadm-2d0Qog4"
      },
      "source": [
        "# Print in extra stylish manner\n",
        "\n",
        "# Display the number of missionaries based on their count on the left side using string replication\n",
        "### Your code ###\n",
        "\n",
        "\n",
        "# Display the number of cannibals based on their count on the left side using string replication\n",
        "### Your code ###\n",
        "\n",
        "\n",
        "# Display the waves emoji for 4 times using string replication\n",
        "### Your code ###\n",
        "\n",
        "\n",
        "# Display the boat using string replication\n",
        "### Your code ###\n",
        "\n",
        "\n",
        "# Display the number of missionaries based on their count on the right side using string replication\n",
        "### Your code ###\n",
        "\n",
        "\n",
        "# Display the number of cannibals based on their count on the right side using string replication\n",
        "### Your code ###\n",
        "\n"
      ],
      "execution_count": null,
      "outputs": []
    },
    {
      "cell_type": "markdown",
      "metadata": {
        "id": "WpcPEa3JQog4"
      },
      "source": [
        "### <center>**Complete Code**</center>\n"
      ]
    },
    {
      "cell_type": "code",
      "source": [
        "### Your code ###\n",
        "\n",
        "from IPython.display import clear_output\n",
        "\n",
        "boat_side = 'Right'\n",
        "missionaries_on_right = 3\n",
        "cannibals_on_right = 3\n",
        "missionaries_on_left = 0\n",
        "cannibals_on_left = 0\n",
        "\n",
        "print('Right Side')\n",
        "print('\\U0001f482'*missionaries_on_left,'\\U0001f479'*cannibals_on_left,'\\U0001f30a'*4,\n",
        "      '\\U0001f6A2'*1,'\\U0001f482'*missionaries_on_right,'\\U0001f479'*cannibals_on_right)\n",
        "\n",
        "while True:\n",
        "\n",
        "  ## BOAT ON RIGHT SIDE\n",
        "  if boat_side == 'Right':\n",
        "\n",
        "    missionaries = int(input('ENTER THE NUMBER OF MISSIONARIES ON BOAT: '))\n",
        "    cannibals = int(input('ENTER THE NUMBER OF CANNIBALS BOAT: '))\n",
        "\n",
        "    if (missionaries + cannibals)<0 or (missionaries + cannibals) > 2 :\n",
        "      print('Invalid Move 1')\n",
        "      continue\n",
        "    else:\n",
        "      if (missionaries_on_right < missionaries) or (cannibals_on_right < cannibals):\n",
        "        print('Invalid Move 2')\n",
        "        continue\n",
        "\n",
        "      else:\n",
        "        cannibals_on_right -= cannibals;missionaries_on_right -= missionaries\n",
        "        cannibals_on_left += cannibals;missionaries_on_left += missionaries\n",
        "        clear_output()\n",
        "        print('\\U0001f482'*missionaries_on_left,'\\U0001f479'*cannibals_on_left,'\\U0001f6A2'*1,\n",
        "              '\\U0001f30a'*4,'\\U0001f482'*missionaries_on_right,'\\U0001f479'*cannibals_on_right)\n",
        "        boat_side = 'Left'\n",
        "\n",
        "  ## BOAT ON LEFT SIDE\n",
        "  elif boat_side == 'Left':\n",
        "\n",
        "    missionaries = int(input('ENTER THE NUMBER OF MISSIONARIES ON BOAT: '))\n",
        "    cannibals = int(input('ENTER THE NUMBER OF CANNIBALS BOAT: '))\n",
        "\n",
        "    if (missionaries + cannibals) < 0 or (missionaries + cannibals) > 2:\n",
        "      print('Invalid Move 1')\n",
        "      continue\n",
        "    else:\n",
        "      if (missionaries_on_left < missionaries) or (cannibals_on_left < cannibals):\n",
        "        print('Invalid Move 2')\n",
        "        continue\n",
        "      else:\n",
        "        cannibals_on_left -= cannibals;missionaries_on_left -= missionaries\n",
        "        cannibals_on_right += cannibals;missionaries_on_right += missionaries\n",
        "        clear_output()\n",
        "        print('\\U0001f482'*missionaries_on_left,'\\U0001f479'*cannibals_on_left,'\\U0001f30a'*4,\n",
        "              '\\U0001f6A2'*1,'\\U0001f482'*missionaries_on_right,'\\U0001f479'*cannibals_on_right)\n",
        "        boat_side = 'Right'\n",
        "\n",
        "  ### GAME RESULT\n",
        "  if ((missionaries_on_right < cannibals_on_right) and (missionaries_on_right > 0)) or ((missionaries_on_left < cannibals_on_left) and (missionaries_on_left > 0)):\n",
        "    print('YOU LOSE')\n",
        "    break\n",
        "\n",
        "  elif (missionaries_on_left and cannibals_on_left) == 3:\n",
        "    print('YOU WIN')\n",
        "    break\n",
        "\n",
        "print('GAME OVER')"
      ],
      "metadata": {
        "id": "ET8viXLG0e2K",
        "colab": {
          "base_uri": "https://localhost:8080/"
        },
        "outputId": "0fa9747c-5f1c-4e8b-acd0-09907cf194c0"
      },
      "execution_count": null,
      "outputs": [
        {
          "output_type": "stream",
          "name": "stdout",
          "text": [
            "💂💂💂 👹👹👹 🚢 🌊🌊🌊🌊  \n",
            "YOU WIN\n",
            "GAME OVER\n"
          ]
        }
      ]
    }
  ]
}